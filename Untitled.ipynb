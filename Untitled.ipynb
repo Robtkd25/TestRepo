{
 "cells": [
  {
   "cell_type": "code",
   "execution_count": 1,
   "id": "17e58f2a-9937-47ed-b1a5-5cab332437ca",
   "metadata": {},
   "outputs": [
    {
     "name": "stdout",
     "output_type": "stream",
     "text": [
      "New Python file\n"
     ]
    }
   ],
   "source": [
    "# print the output\n",
    "print(\"New Python file\")\n"
   ]
  },
  {
   "cell_type": "code",
   "execution_count": null,
   "id": "319519c0-5676-46f5-a273-e3a505115e41",
   "metadata": {},
   "outputs": [],
   "source": []
  }
 ],
 "metadata": {
  "kernelspec": {
   "display_name": "Python 3 (ipykernel)",
   "language": "python",
   "name": "python3"
  },
  "language_info": {
   "codemirror_mode": {
    "name": "ipython",
    "version": 3
   },
   "file_extension": ".py",
   "mimetype": "text/x-python",
   "name": "python",
   "nbconvert_exporter": "python",
   "pygments_lexer": "ipython3",
   "version": "3.12.8"
  }
 },
 "nbformat": 4,
 "nbformat_minor": 5
}
